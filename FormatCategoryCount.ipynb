{
 "cells": [
  {
   "cell_type": "code",
   "execution_count": 17,
   "metadata": {
    "collapsed": true
   },
   "outputs": [],
   "source": [
    "import csv\n",
    "from csv import DictWriter\n",
    "import json\n",
    "from dateutil import parser"
   ]
  },
  {
   "cell_type": "code",
   "execution_count": 21,
   "metadata": {
    "collapsed": false
   },
   "outputs": [],
   "source": [
    "category_count = {}\n",
    "\n",
    "with open(\"./categoryCount.tsv\", \"r\") as fp:\n",
    "    for fields in csv.reader(fp, delimiter=\"\\t\"):\n",
    "        category_count[parser.parse(fields[0])] = json.loads(fields[1])\n",
    "\n",
    "with open(\"./categoryCount.csv\", \"w\") as fp:\n",
    "    keys = category_count.keys()\n",
    "    keys.sort()\n",
    "    \n",
    "    fieldnames = [u'date']\n",
    "    service_categories = category_count[keys[0]].keys()\n",
    "    service_categories.sort()\n",
    "    fieldnames.extend(service_categories)\n",
    "    \n",
    "    writerobj = DictWriter(fp, fieldnames)\n",
    "    writerobj.writeheader()\n",
    "    \n",
    "    for idx in range(0, len(keys)):\n",
    "        row_dict = {u'date': keys[idx]}\n",
    "        \n",
    "        for cur_category in category_count[keys[idx]].keys():\n",
    "            row_dict[cur_category] = category_count[keys[idx]][cur_category]\n",
    "\n",
    "        writerobj.writerow(row_dict)"
   ]
  },
  {
   "cell_type": "code",
   "execution_count": null,
   "metadata": {
    "collapsed": true
   },
   "outputs": [],
   "source": []
  }
 ],
 "metadata": {
  "kernelspec": {
   "display_name": "Python 2",
   "language": "python",
   "name": "python2"
  },
  "language_info": {
   "codemirror_mode": {
    "name": "ipython",
    "version": 2
   },
   "file_extension": ".py",
   "mimetype": "text/x-python",
   "name": "python",
   "nbconvert_exporter": "python",
   "pygments_lexer": "ipython2",
   "version": "2.7.11"
  }
 },
 "nbformat": 4,
 "nbformat_minor": 0
}
