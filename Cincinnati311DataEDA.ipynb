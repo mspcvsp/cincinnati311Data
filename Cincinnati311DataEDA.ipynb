{
 "cells": [
  {
   "cell_type": "markdown",
   "metadata": {},
   "source": [
    "### Setup Software Environment"
   ]
  },
  {
   "cell_type": "code",
   "execution_count": 1,
   "metadata": {
    "collapsed": true
   },
   "outputs": [],
   "source": [
    "from csv import DictReader\n",
    "from dateutil import parser\n",
    "import os\n",
    "import re\n",
    "import urllib2"
   ]
  },
  {
   "cell_type": "markdown",
   "metadata": {},
   "source": [
    "### Download the Cincinnati 311 (Non-Emergency) Service Requests data]\n",
    "- [Dataset Description](https://data.cincinnati-oh.gov/Thriving-Healthy-Neighborhoods/Cincinnati-311-Non-Emergency-Service-Requests/4cjh-bm8b/about)\n",
    "- [Example of downloading a *.csv file progamatically using urllib2](http://stackoverflow.com/questions/30762150/trying-to-download-data-from-url-with-csv-file)"
   ]
  },
  {
   "cell_type": "code",
   "execution_count": 2,
   "metadata": {
    "collapsed": false
   },
   "outputs": [],
   "source": [
    "data_dir = \"./Data\"\n",
    "\n",
    "csv_file_path = os.path.join(data_dir, \"cincinnati311.csv\")\n",
    "\n",
    "if not os.path.exists(csv_file_path):\n",
    "\n",
    "    if not os.path.exists(data_dir):\n",
    "        os.mkdir(data_dir)\n",
    "        \n",
    "    url = 'https://data.cincinnati-oh.gov/api/views' +\\\n",
    "          '/4cjh-bm8b/rows.csv?accessType=DOWNLOAD'\n",
    "\n",
    "    response = urllib2.urlopen(url)\n",
    "\n",
    "    html = response.read()\n",
    "\n",
    "    with open(csv_file_path, 'wb') as h_file:\n",
    "        h_file.write(html)"
   ]
  },
  {
   "cell_type": "markdown",
   "metadata": {},
   "source": [
    "### Parse the 1st record"
   ]
  },
  {
   "cell_type": "code",
   "execution_count": 3,
   "metadata": {
    "collapsed": false
   },
   "outputs": [
    {
     "name": "stdout",
     "output_type": "stream",
     "text": [
      "{'status': 'CLOS', 'servicenotice': '', 'description': '\"Thank you so much for sending a plow so quickly last week when we requested one. Once plowing of main roads is finished, Colter Ave once again desperately needs help! The street is unplowed, but more problematic is the giant snow/ice pile at the entrance to the street from Sutton Avenue. It is almost impassible, and definitely dangerous.Thanks in advance for your help!\"', 'statusnotes': '', 'expecteddatetime': '2014-02-06T00:00:00Z', 'lasttableupdate': '03/05/2015 11:07:49 PM +0000', 'requesteddate': '02/05/2014 12:00:00 AM +0000', 'zipcode': '45230', 'longitude': '-84.3911002774317', 'requesteddatetime': '2014-02-05T15:48:00Z', 'addressid': '', 'updateddate': '03/07/2014 12:00:00 AM +0000', 'servicename': '\"Slippery streets, request\"', 'servicecode': '\"SLPYST\"', 'address': '\"6055 COLTER AV, CINC - GJ2564429820\"', 'latitude': '39.0883480578611', 'updateddatetime': '2014-03-07T00:00:00Z', 'agencyresponsible': 'Public Services', 'servicerequestid': 'SR14009309', 'jurisdictionid': 'CINCINNATI'}\n"
     ]
    }
   ],
   "source": [
    "h_file = open(\"./Data/cincinnati311.csv\", \"r\")\n",
    "fieldnames = [re.sub(\"_\", \"\", elem.lower()) for elem in h_file.readline().rstrip().split(',')]\n",
    "\n",
    "readerobj = DictReader(h_file, fieldnames)\n",
    "\n",
    "print readerobj.next()\n",
    "\n",
    "h_file.close()"
   ]
  },
  {
   "cell_type": "markdown",
   "metadata": {},
   "source": [
    "### Implement a class that parses and cleans a Cincinnati 311 data record\n",
    "- This class forms the basis for mapper functions\n",
    "- [This software applies the dateutil package parser fucntion to parse date/time strings](http://stackoverflow.com/questions/10494312/parsing-time-string-in-python)"
   ]
  },
  {
   "cell_type": "code",
   "execution_count": 4,
   "metadata": {
    "collapsed": false
   },
   "outputs": [],
   "source": [
    "class Cincinnati311CSVDataParser(object):\n",
    "    \"\"\" Class that parses and cleans a Cincinnati 311 Comma Seperated Value\n",
    "    (CSV) file record\n",
    "    \n",
    "    Data set description:\n",
    "    --------------------\n",
    "    https://data.cincinnati-oh.gov/Thriving-Healthy-Neighborhoods/\n",
    "        Cincinnati-311-Non-Emergency-Service-Requests/4cjh-bm8b/about\"\"\"\n",
    "\n",
    "    def __init__(self,\n",
    "                 h_file):\n",
    "        \"\"\" Cincinnati311CSVDataParser class constructor\n",
    "\n",
    "        Args:\n",
    "            self: Cincinnati311CSVDataParser class object handle\n",
    "            \n",
    "            h_file: Cincinnati 311 csv file handle\n",
    "        \n",
    "        Returns:\n",
    "            None\"\"\"\n",
    "        fieldnames = ['jurisdictionid',\n",
    "                      'servicerequestid',\n",
    "                      'status',\n",
    "                      'statusnotes',\n",
    "                      'servicename',\n",
    "                      'servicecode',\n",
    "                      'description',\n",
    "                      'agencyresponsible',\n",
    "                      'servicenotice',\n",
    "                      'requesteddatetime',\n",
    "                      'updateddatetime',\n",
    "                      'expecteddatetime',\n",
    "                      'address',\n",
    "                      'addressid',\n",
    "                      'zipcode',\n",
    "                      'latitude',\n",
    "                      'longitude',\n",
    "                      'requesteddate',\n",
    "                      'updateddate',\n",
    "                      'lasttableupdate']\n",
    "        \n",
    "        matchobj = re.compile('.*date.*')\n",
    "\n",
    "        self.date_fields = filter(lambda elem: matchobj.match(elem) != None,\n",
    "                                  fieldnames)\n",
    "        \n",
    "        self.string_fields = filter(lambda elem: matchobj.match(elem) == None,\n",
    "                                    fieldnames)\n",
    "        \n",
    "        self.readerobj = DictReader(h_file, fieldnames)\n",
    "\n",
    "    def parse(self):\n",
    "        \"\"\" Parses a Cincinnati 311 CSV file record\n",
    "        \n",
    "        Args:\n",
    "            self: Cincinnati311CSVDataParser class object handle\n",
    "        \n",
    "        Returns:\n",
    "            record: Dictionary that stores a Cincinnati 311 data CSV file\n",
    "                    record\"\"\"\n",
    "        record = self.readerobj.next()\n",
    "        \n",
    "        if record['jurisdictionid'] == 'JURISDICTION_ID':\n",
    "            record = None\n",
    "        else:\n",
    "            \n",
    "            for key in self.date_fields:\n",
    "                record[key] = parser.parse(record[key])\n",
    "                \n",
    "            for key in self.string_fields:\n",
    "                record[key] = re.sub(\"\\\"\", \"\", record[key].lower())\n",
    "        \n",
    "        return record"
   ]
  },
  {
   "cell_type": "code",
   "execution_count": 5,
   "metadata": {
    "collapsed": false
   },
   "outputs": [
    {
     "name": "stdout",
     "output_type": "stream",
     "text": [
      "None\n",
      "{'status': 'clos', 'servicenotice': '', 'description': 'thank you so much for sending a plow so quickly last week when we requested one. once plowing of main roads is finished, colter ave once again desperately needs help! the street is unplowed, but more problematic is the giant snow/ice pile at the entrance to the street from sutton avenue. it is almost impassible, and definitely dangerous.thanks in advance for your help!', 'statusnotes': '', 'expecteddatetime': datetime.datetime(2014, 2, 6, 0, 0, tzinfo=tzutc()), 'lasttableupdate': datetime.datetime(2015, 3, 5, 23, 7, 49, tzinfo=tzutc()), 'requesteddate': datetime.datetime(2014, 2, 5, 0, 0, tzinfo=tzutc()), 'zipcode': '45230', 'longitude': '-84.3911002774317', 'requesteddatetime': datetime.datetime(2014, 2, 5, 15, 48, tzinfo=tzutc()), 'addressid': '', 'updateddate': datetime.datetime(2014, 3, 7, 0, 0, tzinfo=tzutc()), 'servicename': 'slippery streets, request', 'servicecode': 'slpyst', 'address': '6055 colter av, cinc - gj2564429820', 'latitude': '39.0883480578611', 'updateddatetime': datetime.datetime(2014, 3, 7, 0, 0, tzinfo=tzutc()), 'agencyresponsible': 'public services', 'servicerequestid': 'sr14009309', 'jurisdictionid': 'cincinnati'}\n"
     ]
    }
   ],
   "source": [
    "h_file = open(\"./Data/cincinnati311.csv\", \"r\")\n",
    "\n",
    "parserobj = Cincinnati311CSVDataParser(h_file)\n",
    "\n",
    "print parserobj.parse()\n",
    "print parserobj.parse()\n",
    "\n",
    "h_file.close()"
   ]
  },
  {
   "cell_type": "code",
   "execution_count": null,
   "metadata": {
    "collapsed": true
   },
   "outputs": [],
   "source": []
  }
 ],
 "metadata": {
  "kernelspec": {
   "display_name": "Python 2",
   "language": "python",
   "name": "python2"
  },
  "language_info": {
   "codemirror_mode": {
    "name": "ipython",
    "version": 2
   },
   "file_extension": ".py",
   "mimetype": "text/x-python",
   "name": "python",
   "nbconvert_exporter": "python",
   "pygments_lexer": "ipython2",
   "version": "2.7.10"
  }
 },
 "nbformat": 4,
 "nbformat_minor": 0
}
