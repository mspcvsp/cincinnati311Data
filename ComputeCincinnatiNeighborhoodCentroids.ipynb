{
 "cells": [
  {
   "cell_type": "markdown",
   "metadata": {},
   "source": [
    "### Initialize software environment\n",
    "- [Initialize Spark Environment for Juypter Notebook](http://datascience.stackexchange.com/questions/6555/issue-with-ipython-jupyter-on-spark-unrecognized-alias)"
   ]
  },
  {
   "cell_type": "code",
   "execution_count": 58,
   "metadata": {
    "collapsed": true
   },
   "outputs": [],
   "source": [
    "import findspark\n",
    "import numpy as np\n",
    "import os\n",
    "import re\n",
    "import subprocess\n",
    "import shapefile\n",
    "\n",
    "findspark.init()\n",
    "\n",
    "import pyspark\n",
    "\n",
    "sc = pyspark.SparkContext()\n",
    "\n",
    "sqlContext = pyspark.sql.SQLContext(sc)"
   ]
  },
  {
   "cell_type": "markdown",
   "metadata": {},
   "source": [
    "### Reproject Cincinnati Area Geographic Information System (CAGIS) cc neighbndy.shp\n",
    "- [Cagis Homepage](http://cagismaps.hamilton-co.org/cagisportal)\n",
    "- [Reproject shapefile with ogr2ogr](http://www.mercatorgeosystems.com/blog-articles/2008/05/30/using-ogr2ogr-to-re-project-a-shape-file/)\n",
    "- [Run system command with subprocess library](http://stackoverflow.com/questions/325463/launch-a-shell-command-with-in-a-python-script-wait-for-the-termination-and-ret)"
   ]
  },
  {
   "cell_type": "code",
   "execution_count": 59,
   "metadata": {
    "collapsed": false
   },
   "outputs": [],
   "source": [
    "output_shapefile = \"../CagisOpenDataQuarterly/neighborhood.shp\"\n",
    "\n",
    "if not os.path.exists(output_shapefile):\n",
    "    sys_command = 'ogr2ogr ' + output_shapefile + ' ' +\\\n",
    "              '\"../CagisOpenDataQuarterly/cc neighbndy.shp\" -t_srs EPSG:4326'\n",
    "\n",
    "    process = subprocess.Popen(sys_command,\n",
    "                               shell=True,\n",
    "                               stdout=subprocess.PIPE)\n",
    "    process.wait()\n",
    "    print process.returncode"
   ]
  },
  {
   "cell_type": "markdown",
   "metadata": {},
   "source": [
    "### Compute Cincinnati neighborhood centroids\n",
    "- [Read shapefile](https://pypi.python.org/pypi/pyshp#reading-shapefiles-from-file-like-objects)"
   ]
  },
  {
   "cell_type": "code",
   "execution_count": 60,
   "metadata": {
    "collapsed": true
   },
   "outputs": [],
   "source": [
    "def init_neighborhoods(readerobj):\n",
    "    \"\"\" Initializes a dictionary that stores a description of\n",
    "    City of Cincinnati neighborhoods\n",
    "    \n",
    "    Args:\n",
    "        readerobj: shapfilemodule Reader class object handle\n",
    "    \n",
    "    Returns:\n",
    "        neighborhood: Dictionary that stores a description of\n",
    "                      City of Cincinnati neighborhoods\"\"\"\n",
    "    shapes = readerobj.shapes()\n",
    "\n",
    "    fieldnames = [re.sub('_', '', elem[0].lower())\n",
    "                  for elem in readerobj.fields[1:]]\n",
    "\n",
    "    neighborhood = {}\n",
    "\n",
    "    for idx in range(0, sf.numRecords):\n",
    "        row_dict = dict(zip(fieldnames, readerobj.record(idx)))\n",
    "\n",
    "        row_dict['boundingbox'] = np.array(shapes[idx].bbox)\n",
    "\n",
    "        row_dict['centroid'] = [np.mean(row_dict['boundingbox'][0:4:2]),\n",
    "                               np.mean(row_dict['boundingbox'][1:4:2])]\n",
    "\n",
    "        cur_neighborhood = row_dict.pop('neigh').lower()\n",
    "\n",
    "        cur_neighborhood = re.sub('[-\\s+]','', cur_neighborhood)\n",
    "\n",
    "        neighborhood[cur_neighborhood] = row_dict\n",
    "\n",
    "    return neighborhood"
   ]
  },
  {
   "cell_type": "code",
   "execution_count": 61,
   "metadata": {
    "collapsed": false
   },
   "outputs": [],
   "source": [
    "readerobj = shapefile.Reader(output_shapefile)\n",
    "\n",
    "neighborhood = init_neighborhoods(readerobj)"
   ]
  },
  {
   "cell_type": "code",
   "execution_count": 98,
   "metadata": {
    "collapsed": false
   },
   "outputs": [],
   "source": [
    "from pyspark.mllib.feature import Vectors\n",
    "from pyspark.mllib.linalg import DenseVector\n",
    "\n",
    "neighborhood_centroid = []\n",
    "\n",
    "for key in neighborhood.keys():\n",
    "    neighborhood_centroid.append(Vectors.dense(neighborhood[key]['centroid']))"
   ]
  },
  {
   "cell_type": "code",
   "execution_count": null,
   "metadata": {
    "collapsed": true
   },
   "outputs": [],
   "source": []
  }
 ],
 "metadata": {
  "kernelspec": {
   "display_name": "Python 2",
   "language": "python",
   "name": "python2"
  },
  "language_info": {
   "codemirror_mode": {
    "name": "ipython",
    "version": 2
   },
   "file_extension": ".py",
   "mimetype": "text/x-python",
   "name": "python",
   "nbconvert_exporter": "python",
   "pygments_lexer": "ipython2",
   "version": "2.7.11"
  }
 },
 "nbformat": 4,
 "nbformat_minor": 0
}
