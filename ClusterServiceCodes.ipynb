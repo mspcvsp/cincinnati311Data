{
 "cells": [
  {
   "cell_type": "markdown",
   "metadata": {},
   "source": [
    "### Setup Code Environment"
   ]
  },
  {
   "cell_type": "code",
   "execution_count": 1,
   "metadata": {
    "collapsed": false
   },
   "outputs": [],
   "source": [
    "import csv\n",
    "import re\n",
    "import numpy as np\n",
    "import matplotlib.pyplot as plt\n",
    "import nltk\n",
    "from sklearn.cluster import KMeans\n",
    "from sklearn.feature_extraction.text import TfidfVectorizer\n",
    "from sklearn.metrics.pairwise import cosine_similarity\n",
    "from collections import defaultdict\n",
    "%matplotlib inline"
   ]
  },
  {
   "cell_type": "markdown",
   "metadata": {},
   "source": [
    "### Initialize service code data structures\n",
    "- Service code / service name map\n",
    "- Service code histogram"
   ]
  },
  {
   "cell_type": "code",
   "execution_count": 2,
   "metadata": {
    "collapsed": false
   },
   "outputs": [],
   "source": [
    "h_file = open(\"./serviceCodesCount.tsv\",\"r\")\n",
    "\n",
    "code_name_map = {}\n",
    "code_histogram = {}\n",
    "                    \n",
    "patternobj = re.compile('^([0-9a-z]+)\\s\\|\\s([0-9a-z\\s]+)$')\n",
    "\n",
    "for fields in csv.reader(h_file, delimiter=\"\\t\"):\n",
    "    matchobj = patternobj.match(fields[0])\n",
    "    \n",
    "    cur_code = matchobj.group(1)\n",
    "    code_name_map[cur_code] = matchobj.group(2)\n",
    "    code_histogram[cur_code] = float(fields[1])\n",
    "    \n",
    "h_file.close()"
   ]
  },
  {
   "cell_type": "markdown",
   "metadata": {},
   "source": [
    "### Cluster service code names\n",
    "- Compute Term Frequency Inverse Document Frequency (TF-IDF) feature vectors\n",
    "- Apply the K-means algorithm to cluster service code names based on their TF-IDF feature vector\n",
    "- References:\n",
    "  - Rose, B. [\"Document Clustering in Python\"](http://brandonrose.org/clustering)\n",
    "  - [Text pre-processing to reduce dictionary size](http://nlp.stanford.edu/IR-book/html/htmledition/stemming-and-lemmatization-1.html)"
   ]
  },
  {
   "cell_type": "code",
   "execution_count": 12,
   "metadata": {
    "collapsed": false
   },
   "outputs": [],
   "source": [
    "from nltk.stem.snowball import SnowballStemmer\n",
    "\n",
    "def tokenize(text):\n",
    "    \"\"\" Extracts unigrams (i.e. words) from a string that contains\n",
    "    a service code name.\n",
    "    \n",
    "    Args:\n",
    "        text: String that stores a service code name\n",
    "    \n",
    "    Returns:\n",
    "        filtered_tokens: List of words contained in a service code name\"\"\"\n",
    "    tokens = [word.lower() for word in nltk.word_tokenize(text)]\n",
    "\n",
    "    filtered_tokens =\\\n",
    "        filter(lambda elem: re.match('^[a-z]+$', elem) != None,\n",
    "               tokens)\n",
    "        \n",
    "    filtered_tokens =\\\n",
    "        map(lambda elem: re.sub(\"\\s+\",\" \", elem),\n",
    "            filtered_tokens)\n",
    "\n",
    "    return filtered_tokens\n",
    "\n",
    "def tokenize_and_stem(text):\n",
    "    \"\"\" Applies the Snowball stemmer to unigrams (i.e. words) extracted\n",
    "    from a string that contains a service code name.\n",
    "    \n",
    "    Args:\n",
    "        text: String that stores a service code name\n",
    "    \n",
    "    Returns:\n",
    "        filtered_tokens: List of words contained in a service code name\"\"\"\n",
    "    stemmer = SnowballStemmer('english')\n",
    "\n",
    "    tokens = [word.lower() for word in nltk.word_tokenize(text)]\n",
    "\n",
    "    filtered_tokens =\\\n",
    "        filter(lambda elem: re.match('^[a-z]+$', elem) != None,\n",
    "               tokens)\n",
    "\n",
    "    filtered_tokens =\\\n",
    "        map(lambda elem: re.sub(\"\\s+\",\" \", elem),\n",
    "            filtered_tokens)\n",
    "\n",
    "    filtered_tokens = [stemmer.stem(token) for token in filtered_tokens]\n",
    "\n",
    "    return filtered_tokens\n",
    "\n",
    "def compute_tfidf_features(code_name_map,\n",
    "                           tokenizer,\n",
    "                           params):\n",
    "    \"\"\" Constructs a Term Frequency Inverse Document Frequency (TF-IDF)\n",
    "    matrix for the Cincinnati 311 service code names.\n",
    "    \n",
    "    Args:\n",
    "        code_name_map: Dictionary that stores the mapping of service\n",
    "                       codes to service names\n",
    "        \n",
    "        tokenizer: Function that transforms a string into a list of\n",
    "                   words\n",
    "                   \n",
    "        params: Dictionary that stores parameters that configure the\n",
    "                TfidfVectorizer class constructor\n",
    "                \n",
    "                - mindocumentcount: Minimum number of term occurrences\n",
    "                in separate service code names\n",
    "                \n",
    "                - maxdocumentfrequency: Maximum document frequency\n",
    "    \n",
    "    Returns:\n",
    "        Tuple that stores a TF-IDF matrix and a TfidfVectorizer class\n",
    "        object.\n",
    "        \n",
    "        Index:   Description:\n",
    "        -----    -----------\n",
    "          0      TF-IDF matrix\n",
    "          1      TfidfVectorizer class object\"\"\"\n",
    "    token_count = 0\n",
    "    for key in code_name_map.keys():\n",
    "        token_count += len(tokenize(code_name_map[key]))\n",
    "\n",
    "    num_codes = len(code_name_map.keys())\n",
    "\n",
    "    min_df = float(params['mindocumentcount']) / num_codes\n",
    "    \n",
    "    tfidf_vectorizer =\\\n",
    "        TfidfVectorizer(max_df=params['maxdocumentfrequency'],\n",
    "                        min_df=min_df,\n",
    "                        stop_words = 'english',\n",
    "                        max_features = token_count,\n",
    "                        use_idf=True,\n",
    "                        tokenizer=tokenizer,\n",
    "                        ngram_range=(1,1))\n",
    "\n",
    "    tfidf_matrix =\\\n",
    "        tfidf_vectorizer.fit_transform(code_name_map.values())\n",
    "\n",
    "    return (tfidf_matrix,\n",
    "            tfidf_vectorizer)\n",
    "\n",
    "def cluster_311_services(tfidf_matrix,\n",
    "                         num_clusters,\n",
    "                         random_seed):\n",
    "    \"\"\"Applies the K-means algorithm to cluster Cincinnati 311 service\n",
    "    codes based on their service name Term Frequency Inverse Document\n",
    "    Frequency (TF-IDF) feature vector.\n",
    "    \n",
    "    Args:\n",
    "        tfidf_matrix: Cincinnati 311 service names TF-IDF feature matrix\n",
    "        \n",
    "        num_clusters: K-means algorithm number of clusters input\n",
    "        \n",
    "        random_seed: K-means algorithm random seed input:\n",
    "    \n",
    "    Returns:\n",
    "        clusterid_code_map: Dictionary that stores the mapping of\n",
    "                            cluster identifier to Cincinnati 311\n",
    "                            service code\n",
    "\n",
    "        clusterid_name_map: Dictionary that stores the mapping of\n",
    "                            cluster identifier to Cincinnati 311\n",
    "                            service name\"\"\"\n",
    "    km = KMeans(n_clusters = num_clusters,\n",
    "                random_state=np.random.RandomState(seed=random_seed))\n",
    "\n",
    "    km.fit(tfidf_matrix)\n",
    "\n",
    "    clusters = km.labels_.tolist()\n",
    "\n",
    "    clusterid_code_map = defaultdict(list)\n",
    "    clusterid_name_map = defaultdict(list)\n",
    "\n",
    "    codes = code_name_map.keys()\n",
    "    names = code_name_map.values()\n",
    "\n",
    "    for idx in range(0, len(codes)):\n",
    "        clusterid_code_map[clusters[idx]].append(codes[idx])\n",
    "        clusterid_name_map[clusters[idx]].append(names[idx])\n",
    "        \n",
    "    return (clusterid_code_map,\n",
    "            clusterid_name_map)\n",
    "\n",
    "def compute_clusterid_totalcounts(clusterid_code_map,\n",
    "                                  code_histogram):\n",
    "\n",
    "    clusterid_total_count = defaultdict(int)\n",
    "    \n",
    "    num_clusters = len(clusterid_code_map.keys())\n",
    "\n",
    "    for cur_cluster_id in range(0, num_clusters):\n",
    "        for cur_code in clusterid_code_map[cur_cluster_id]:\n",
    "            clusterid_total_count[cur_cluster_id] +=\\\n",
    "                code_histogram[cur_code]\n",
    "    \n",
    "    return clusterid_total_count\n",
    "\n",
    "def print_cluster_stats(clusterid_name_map,\n",
    "                        clusterid_total_count):\n",
    "\n",
    "    num_clusters = len(clusterid_total_count.keys())\n",
    "\n",
    "    for cur_cluster_id in range(0, num_clusters):\n",
    "\n",
    "        print \"clusterid %d | # of codes: %d | total count: %d\" %\\\n",
    "            (cur_cluster_id,\n",
    "            len(clusterid_name_map[cur_cluster_id]),\n",
    "            clusterid_total_count[cur_cluster_id])\n",
    "\n",
    "def eval_maxcount_clusterid(clusterid_code_map,\n",
    "                            clusterid_total_count,\n",
    "                            code_histogram):\n",
    "\n",
    "    maxcount_clusterid = np.argmax(clusterid_total_count.values())\n",
    "\n",
    "    cluster_code_counts =\\\n",
    "        np.zeros(len(clusterid_code_map[maxcount_clusterid]))\n",
    "\n",
    "    for idx in range(0, len(cluster_code_counts)):\n",
    "        key = clusterid_code_map[maxcount_clusterid][idx]\n",
    "        cluster_code_counts[idx] = code_histogram[key]\n",
    "\n",
    "    plt.bar(range(0,len(cluster_code_counts)),cluster_code_counts)\n",
    "    plt.grid(True)\n",
    "    plt.xlabel('Service Code #')\n",
    "    plt.ylabel('Service Code Count')\n",
    "    plt.title('Cluster #%d Service Code Histogram' %\\\n",
    "              (maxcount_clusterid))\n",
    "\n",
    "    max_idx = np.argmax(cluster_code_counts)\n",
    "    print \"max count code: %s\" %\\\n",
    "        (clusterid_code_map[maxcount_clusterid][max_idx])"
   ]
  },
  {
   "cell_type": "markdown",
   "metadata": {},
   "source": [
    "### Apply a word tokenizer to the service code names and construct the TF-IDF feature matrix"
   ]
  },
  {
   "cell_type": "code",
   "execution_count": 4,
   "metadata": {
    "collapsed": false
   },
   "outputs": [
    {
     "name": "stdout",
     "output_type": "stream",
     "text": [
      "# of terms: 31\n",
      "[u'additnal', u'building', u'cart', u'com', u'complaint', u'compliment', u'damage', u'default', u'dote', u'gallon', u'grassweeds', u'haz', u'ins', u'litter', u'missing', u'new', u'priv', u'prop', u'property', u'recycling', u'repair', u'req', u'request', u'res', u'row', u'service', u'sign', u'street', u'tall', u'trash', u'tree']\n"
     ]
    }
   ],
   "source": [
    "params = {'maxdocumentfrequency': 0.25,\n",
    "          'mindocumentcount': 10}\n",
    "\n",
    "(tfidf_matrix,\n",
    " tfidf_vectorizer) = compute_tfidf_features(code_name_map,\n",
    "                                            tokenize,\n",
    "                                            params)\n",
    "\n",
    "print \"# of terms: %d\" % (tfidf_matrix.shape[1])\n",
    "print tfidf_vectorizer.get_feature_names()"
   ]
  },
  {
   "cell_type": "markdown",
   "metadata": {},
   "source": [
    "### Apply the [K-means algorithm](http://scikit-learn.org/stable/modules/generated/sklearn.cluster.KMeans.html) to cluster the Cincinnati 311 service codes based on their TF-IDF feature vector"
   ]
  },
  {
   "cell_type": "code",
   "execution_count": 5,
   "metadata": {
    "collapsed": false
   },
   "outputs": [
    {
     "name": "stdout",
     "output_type": "stream",
     "text": [
      "clusterid 0 | # of codes: 28 | total count: 28012\n",
      "clusterid 1 | # of codes: 187 | total count: 148910\n",
      "clusterid 2 | # of codes: 14 | total count: 993\n",
      "clusterid 3 | # of codes: 16 | total count: 6438\n",
      "clusterid 4 | # of codes: 34 | total count: 30743\n",
      "clusterid 5 | # of codes: 15 | total count: 3025\n",
      "clusterid 6 | # of codes: 31 | total count: 7614\n",
      "clusterid 7 | # of codes: 16 | total count: 7260\n",
      "clusterid 8 | # of codes: 14 | total count: 30238\n",
      "clusterid 9 | # of codes: 19 | total count: 14557\n",
      "clusterid 10 | # of codes: 25 | total count: 32466\n",
      "clusterid 11 | # of codes: 12 | total count: 2864\n",
      "clusterid 12 | # of codes: 12 | total count: 10177\n",
      "clusterid 13 | # of codes: 16 | total count: 2527\n",
      "clusterid 14 | # of codes: 11 | total count: 5902\n",
      "clusterid 15 | # of codes: 12 | total count: 426\n",
      "clusterid 16 | # of codes: 14 | total count: 21972\n",
      "clusterid 17 | # of codes: 11 | total count: 216\n",
      "clusterid 18 | # of codes: 11 | total count: 1921\n",
      "clusterid 19 | # of codes: 14 | total count: 9403\n"
     ]
    }
   ],
   "source": [
    "num_clusters = 20\n",
    "kmeans_seed = 3806933558\n",
    "\n",
    "(clusterid_code_map,\n",
    " clusterid_name_map) = cluster_311_services(tfidf_matrix,\n",
    "                                            num_clusters,\n",
    "                                            kmeans_seed)\n",
    "\n",
    "clusterid_total_count =\\\n",
    "    compute_clusterid_totalcounts(clusterid_code_map,\n",
    "                                  code_histogram)\n",
    "    \n",
    "print_cluster_stats(clusterid_name_map,\n",
    "                    clusterid_total_count)"
   ]
  },
  {
   "cell_type": "markdown",
   "metadata": {},
   "source": [
    "### Plot the service code histogram for the maximum size cluster"
   ]
  },
  {
   "cell_type": "code",
   "execution_count": 6,
   "metadata": {
    "collapsed": false
   },
   "outputs": [
    {
     "name": "stdout",
     "output_type": "stream",
     "text": [
      "max count code: mtlfrn\n"
     ]
    },
    {
     "data": {
      "image/png": "[encoded data removed]",
      "text/plain": [
       "<matplotlib.figure.Figure at 0x7f37d732ed90>"
      ]
     },
     "metadata": {},
     "output_type": "display_data"
    }
   ],
   "source": [
    "eval_maxcount_clusterid(clusterid_code_map,\n",
    "                        clusterid_total_count,\n",
    "                        code_histogram)"
   ]
  },
  {
   "cell_type": "code",
   "execution_count": 7,
   "metadata": {
    "collapsed": false
   },
   "outputs": [
    {
     "name": "stdout",
     "output_type": "stream",
     "text": [
      "# of terms: 33\n",
      "[u'additn', u'build', u'cart', u'collect', u'com', u'complaint', u'compliment', u'damag', u'default', u'dote', u'gallon', u'grasswe', u'haz', u'inspect', u'litter', u'miss', u'new', u'park', u'priv', u'prop', u'properti', u'recycl', u'repair', u'req', u'request', u'res', u'row', u'servic', u'sign', u'street', u'tall', u'trash', u'tree']\n"
     ]
    }
   ],
   "source": [
    "params = {'maxdocumentfrequency': 0.25,\n",
    "          'mindocumentcount': 10}\n",
    "\n",
    "(tfidf_matrix,\n",
    " tfidf_vectorizer) = compute_tfidf_features(code_name_map,\n",
    "                                            tokenize_and_stem,\n",
    "                                            params)\n",
    "\n",
    "print \"# of terms: %d\" % (tfidf_matrix.shape[1])\n",
    "print tfidf_vectorizer.get_feature_names()"
   ]
  },
  {
   "cell_type": "code",
   "execution_count": 65,
   "metadata": {
    "collapsed": false
   },
   "outputs": [
    {
     "name": "stdout",
     "output_type": "stream",
     "text": [
      "clusterid 0 | # of codes: 16 | total count: 7260\n",
      "clusterid 1 | # of codes: 163 | total count: 125123\n",
      "clusterid 2 | # of codes: 40 | total count: 25091\n",
      "clusterid 3 | # of codes: 14 | total count: 718\n",
      "clusterid 4 | # of codes: 37 | total count: 32299\n",
      "clusterid 5 | # of codes: 34 | total count: 29379\n",
      "clusterid 6 | # of codes: 22 | total count: 25306\n",
      "clusterid 7 | # of codes: 16 | total count: 6438\n",
      "clusterid 8 | # of codes: 18 | total count: 13252\n",
      "clusterid 9 | # of codes: 13 | total count: 11748\n",
      "clusterid 10 | # of codes: 11 | total count: 216\n",
      "clusterid 11 | # of codes: 10 | total count: 1091\n",
      "clusterid 12 | # of codes: 18 | total count: 3053\n",
      "clusterid 13 | # of codes: 13 | total count: 982\n",
      "clusterid 14 | # of codes: 12 | total count: 5913\n",
      "clusterid 15 | # of codes: 10 | total count: 9446\n",
      "clusterid 16 | # of codes: 15 | total count: 32572\n",
      "clusterid 17 | # of codes: 17 | total count: 14571\n",
      "clusterid 18 | # of codes: 19 | total count: 17540\n",
      "clusterid 19 | # of codes: 14 | total count: 3666\n"
     ]
    }
   ],
   "source": [
    "num_clusters = 20\n",
    "kmeans_seed = 3806933558\n",
    "\n",
    "(clusterid_code_map,\n",
    " clusterid_name_map) = cluster_311_services(tfidf_matrix,\n",
    "                                            num_clusters,\n",
    "                                            kmeans_seed)\n",
    "\n",
    "clusterid_total_count =\\\n",
    "    compute_clusterid_totalcounts(clusterid_code_map,\n",
    "                                  code_histogram)\n",
    "    \n",
    "print_cluster_stats(clusterid_name_map,\n",
    "                    clusterid_total_count)"
   ]
  },
  {
   "cell_type": "code",
   "execution_count": 66,
   "metadata": {
    "collapsed": false
   },
   "outputs": [
    {
     "name": "stdout",
     "output_type": "stream",
     "text": [
      "max count code: mtlfrn\n"
     ]
    },
    {
     "data": {
      "image/png": "[encoded data removed]",
      "text/plain": [
       "<matplotlib.figure.Figure at 0x7f37d6684f90>"
      ]
     },
     "metadata": {},
     "output_type": "display_data"
    }
   ],
   "source": [
    "eval_maxcount_clusterid(clusterid_code_map,\n",
    "                        clusterid_total_count,\n",
    "                        code_histogram)"
   ]
  },
  {
   "cell_type": "code",
   "execution_count": 67,
   "metadata": {
    "collapsed": false
   },
   "outputs": [],
   "source": [
    "maxcount_clusterid = np.argmax(clusterid_total_count.values())\n",
    "\n",
    "mtlfrn_code = \"mtlfrn\"\n",
    "\n",
    "mtlfrn_idx =\\\n",
    "    np.argwhere(np.array(clusterid_code_map[maxcount_clusterid]) ==\\\n",
    "                mtlfrn_code)[0][0]\n",
    "    \n",
    "mtlfrn_name = clusterid_name_map[maxcount_clusterid][mtlfrn_idx]\n",
    "\n",
    "next_clusterid = (clusterid_code_map.keys()[-1])+1\n",
    "\n",
    "clusterid_code_map[maxcount_clusterid] =\\\n",
    "    filter(lambda elem: elem != mtlfrn_code,\n",
    "           clusterid_code_map[maxcount_clusterid])\n",
    "    \n",
    "clusterid_name_map[maxcount_clusterid] =\\\n",
    "    filter(lambda elem: elem != mtlfrn_name,\n",
    "           clusterid_code_map[maxcount_clusterid])\n",
    "    \n",
    "clusterid_code_map[next_clusterid] = [mtlfrn_code]\n",
    "clusterid_name_map[next_clusterid] = [mtlfrn_name]"
   ]
  },
  {
   "cell_type": "code",
   "execution_count": 68,
   "metadata": {
    "collapsed": false
   },
   "outputs": [
    {
     "name": "stdout",
     "output_type": "stream",
     "text": [
      "clusterid 0 | # of codes: 16 | total count: 7260\n",
      "clusterid 1 | # of codes: 162 | total count: 52932\n",
      "clusterid 2 | # of codes: 40 | total count: 25091\n",
      "clusterid 3 | # of codes: 14 | total count: 718\n",
      "clusterid 4 | # of codes: 37 | total count: 32299\n",
      "clusterid 5 | # of codes: 34 | total count: 29379\n",
      "clusterid 6 | # of codes: 22 | total count: 25306\n",
      "clusterid 7 | # of codes: 16 | total count: 6438\n",
      "clusterid 8 | # of codes: 18 | total count: 13252\n",
      "clusterid 9 | # of codes: 13 | total count: 11748\n",
      "clusterid 10 | # of codes: 11 | total count: 216\n",
      "clusterid 11 | # of codes: 10 | total count: 1091\n",
      "clusterid 12 | # of codes: 18 | total count: 3053\n",
      "clusterid 13 | # of codes: 13 | total count: 982\n",
      "clusterid 14 | # of codes: 12 | total count: 5913\n",
      "clusterid 15 | # of codes: 10 | total count: 9446\n",
      "clusterid 16 | # of codes: 15 | total count: 32572\n",
      "clusterid 17 | # of codes: 17 | total count: 14571\n",
      "clusterid 18 | # of codes: 19 | total count: 17540\n",
      "clusterid 19 | # of codes: 14 | total count: 3666\n",
      "clusterid 20 | # of codes: 1 | total count: 72191\n"
     ]
    }
   ],
   "source": [
    "clusterid_total_count =\\\n",
    "    compute_clusterid_totalcounts(clusterid_code_map,\n",
    "                                  code_histogram)\n",
    "    \n",
    "print_cluster_stats(clusterid_name_map,\n",
    "                    clusterid_total_count)"
   ]
  },
  {
   "cell_type": "code",
   "execution_count": null,
   "metadata": {
    "collapsed": true
   },
   "outputs": [],
   "source": []
  }
 ],
 "metadata": {
  "kernelspec": {
   "display_name": "Python 2",
   "language": "python",
   "name": "python2"
  },
  "language_info": {
   "codemirror_mode": {
    "name": "ipython",
    "version": 2
   },
   "file_extension": ".py",
   "mimetype": "text/x-python",
   "name": "python",
   "nbconvert_exporter": "python",
   "pygments_lexer": "ipython2",
   "version": "2.7.11"
  }
 },
 "nbformat": 4,
 "nbformat_minor": 0
}
